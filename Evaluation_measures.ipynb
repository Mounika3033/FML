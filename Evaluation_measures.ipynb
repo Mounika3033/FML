{
  "nbformat": 4,
  "nbformat_minor": 0,
  "metadata": {
    "colab": {
      "provenance": [],
      "authorship_tag": "ABX9TyPcDNGQMV63UyuEhpJpxoHL",
      "include_colab_link": true
    },
    "kernelspec": {
      "name": "python3",
      "display_name": "Python 3"
    },
    "language_info": {
      "name": "python"
    }
  },
  "cells": [
    {
      "cell_type": "markdown",
      "metadata": {
        "id": "view-in-github",
        "colab_type": "text"
      },
      "source": [
        "<a href=\"https://colab.research.google.com/github/Mounika3033/FML/blob/main/Evaluation_measures.ipynb\" target=\"_parent\"><img src=\"https://colab.research.google.com/assets/colab-badge.svg\" alt=\"Open In Colab\"/></a>"
      ]
    },
    {
      "cell_type": "code",
      "execution_count": 2,
      "metadata": {
        "colab": {
          "base_uri": "https://localhost:8080/"
        },
        "id": "k-F0JdZStla_",
        "outputId": "ba0908f9-eca9-4f80-8dc2-498c6c51122b"
      },
      "outputs": [
        {
          "output_type": "stream",
          "name": "stdout",
          "text": [
            "1.0\n"
          ]
        }
      ],
      "source": [
        "from sklearn.metrics import mean_absolute_error\n",
        "y=[1,2,3,4]\n",
        "ypred=[1,1,2,2]\n",
        "mae=mean_absolute_error(y,ypred)\n",
        "print(mae)"
      ]
    },
    {
      "cell_type": "code",
      "source": [
        "from sklearn.metrics import mean_squared_error\n",
        "y=[1,2,3,4]\n",
        "ypred=[1,1,2,2]\n",
        "mse=mean_squared_error(y,ypred)\n",
        "print(mse)"
      ],
      "metadata": {
        "colab": {
          "base_uri": "https://localhost:8080/"
        },
        "id": "k7cbjanguHAp",
        "outputId": "be8f8c2b-40e8-4344-eb1f-114d7f2cc2d5"
      },
      "execution_count": 4,
      "outputs": [
        {
          "output_type": "stream",
          "name": "stdout",
          "text": [
            "1.5\n"
          ]
        }
      ]
    },
    {
      "cell_type": "code",
      "source": [
        "from sklearn.metrics import mean_squared_error\n",
        "y=[1,2,3,4]\n",
        "ypred=[1,1,2,2]\n",
        "import numpy as np\n",
        "rmse=np.sqrt(mean_squared_error(y,ypred))\n",
        "print(rmse)"
      ],
      "metadata": {
        "colab": {
          "base_uri": "https://localhost:8080/"
        },
        "id": "dsFO5ZUguZ8H",
        "outputId": "6b9db25f-5e77-46a2-ab00-a78b126a3448"
      },
      "execution_count": 5,
      "outputs": [
        {
          "output_type": "stream",
          "name": "stdout",
          "text": [
            "1.224744871391589\n"
          ]
        }
      ]
    },
    {
      "cell_type": "code",
      "source": [
        "from sklearn.metrics import r2_score\n",
        "y=[1,2,3,4]\n",
        "ypred=[1,1,2,3]\n",
        "r2score=r2_score(y,ypred)\n",
        "print(r2score)\n",
        "print(r2_score([1,2,3],[1,2,3]))"
      ],
      "metadata": {
        "colab": {
          "base_uri": "https://localhost:8080/"
        },
        "id": "C0H1DpBRut64",
        "outputId": "4197f6d6-ea59-4fc8-9e90-7f19a8a7e832"
      },
      "execution_count": 7,
      "outputs": [
        {
          "output_type": "stream",
          "name": "stdout",
          "text": [
            "0.4\n",
            "1.0\n"
          ]
        }
      ]
    }
  ]
}